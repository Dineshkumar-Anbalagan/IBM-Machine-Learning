{
  "nbformat": 4,
  "nbformat_minor": 0,
  "metadata": {
    "kernelspec": {
      "display_name": "Python 3",
      "language": "python",
      "name": "python3"
    },
    "language_info": {
      "codemirror_mode": {
        "name": "ipython",
        "version": 3
      },
      "file_extension": ".py",
      "mimetype": "text/x-python",
      "name": "python",
      "nbconvert_exporter": "python",
      "pygments_lexer": "ipython3",
      "version": "3.7.5"
    },
    "colab": {
      "name": "01b_LAB_Reading_Data.ipynb",
      "provenance": [],
      "include_colab_link": true
    }
  },
  "cells": [
    {
      "cell_type": "markdown",
      "metadata": {
        "id": "view-in-github",
        "colab_type": "text"
      },
      "source": [
        "<a href=\"https://colab.research.google.com/github/Dineshkumar-Anbalagan/IBM-Machine-Learning/blob/main/01b_LAB_Reading_Data.ipynb\" target=\"_parent\"><img src=\"https://colab.research.google.com/assets/colab-badge.svg\" alt=\"Open In Colab\"/></a>"
      ]
    },
    {
      "cell_type": "markdown",
      "metadata": {
        "id": "E3inf3F6HNGz"
      },
      "source": [
        "# Machine Learning Foundation\n",
        "\n",
        "## Section 1, Part b: Reading Data Lab"
      ]
    },
    {
      "cell_type": "code",
      "metadata": {
        "id": "mbAlSqUVHNG8"
      },
      "source": [
        "# Imports\n",
        "import sqlite3 as sq3\n",
        "import pandas.io.sql as pds\n",
        "import pandas as pd"
      ],
      "execution_count": 1,
      "outputs": []
    },
    {
      "cell_type": "markdown",
      "metadata": {
        "id": "-pnLG-P2HNG9"
      },
      "source": [
        "## Lab Exercise: Reading in database files\n",
        "\n",
        " - Create a variable, `path`, containing the path to the `baseball.db` contained in `resources/`\n",
        " - Create a connection, `con`, that is connected to database at `path`\n",
        " - Create a variable, `query`, containing a SQL query which reads in all data from the `allstarfull` table\n",
        " - Create a variable, `observations`, by using pandas' [read_sql](https://pandas.pydata.org/pandas-docs/stable/reference/api/pandas.read_sql.html)\n",
        "\n",
        "### Optional\n",
        " - Create a variable, `tables`, which reads in all data from the table `sqlite_master`\n",
        " - Pretend that you were interesting in creating a new baseball hall of fame. Join and analyze the tables to evaluate the top 3 all time best baseball players."
      ]
    },
    {
      "cell_type": "code",
      "metadata": {
        "colab": {
          "base_uri": "https://localhost:8080/",
          "height": 287
        },
        "id": "Evi2sR3xHNG9",
        "outputId": "8330f48c-f29a-4c96-a806-c4e1502119a8"
      },
      "source": [
        "### BEGIN SOLUTION\n",
        "# Create a variable, `path`, containing the path to the `baseball.db` contained in `resources/`\n",
        "path = 'baseball.db'\n",
        "\n",
        "# Create a connection, `con`, that is connected to database at `path`\n",
        "con = sq3.Connection(path)\n",
        "\n",
        "# Create a variable, `query`, containing a SQL query which reads in all data from the `` table\n",
        "\n",
        "query = \"\"\"\n",
        "SELECT *\n",
        "    FROM allstarfull\n",
        "    ;\n",
        "\"\"\"\n",
        "\n",
        "allstar_observations = pd.read_sql(query, con)\n",
        "\n",
        "# print(allstar_observations)\n",
        "\n",
        "# Create a variable, tables, which reads in all data from the table sqlite_master\n",
        "all_tables = pd.read_sql('SELECT * FROM sqlite_master', con)\n",
        "print(all_tables)\n",
        "\n",
        "# Pretend that you were interesting in creating a new baseball hall of fame. Join and analyze the tables to evaluate the top 3 all time best baseball players\n",
        "best_query = \"\"\"\n",
        "SELECT playerID, sum(GP) AS num_games_played, AVG(startingPos) AS avg_starting_position\n",
        "    FROM allstarfull\n",
        "    GROUP BY playerID\n",
        "    ORDER BY num_games_played DESC, avg_starting_position ASC\n",
        "    LIMIT 3\n",
        "\"\"\"\n",
        "best = pd.read_sql(best_query, con)\n",
        "display(best.head())\n",
        "### END SOLUTION"
      ],
      "execution_count": 4,
      "outputs": [
        {
          "output_type": "stream",
          "text": [
            "    type  ...                                                sql\n",
            "0  table  ...  CREATE TABLE \"allstarfull\" (\\n\"index\" INTEGER,...\n",
            "1  index  ...  CREATE INDEX \"ix_allstarfull_index\"ON \"allstar...\n",
            "2  table  ...  CREATE TABLE \"schools\" (\\n\"index\" INTEGER,\\n  ...\n",
            "3  index  ...  CREATE INDEX \"ix_schools_index\"ON \"schools\" (\"...\n",
            "4  table  ...  CREATE TABLE \"batting\" (\\n\"index\" INTEGER,\\n  ...\n",
            "5  index  ...  CREATE INDEX \"ix_batting_index\"ON \"batting\" (\"...\n",
            "\n",
            "[6 rows x 5 columns]\n"
          ],
          "name": "stdout"
        },
        {
          "output_type": "display_data",
          "data": {
            "text/html": [
              "<div>\n",
              "<style scoped>\n",
              "    .dataframe tbody tr th:only-of-type {\n",
              "        vertical-align: middle;\n",
              "    }\n",
              "\n",
              "    .dataframe tbody tr th {\n",
              "        vertical-align: top;\n",
              "    }\n",
              "\n",
              "    .dataframe thead th {\n",
              "        text-align: right;\n",
              "    }\n",
              "</style>\n",
              "<table border=\"1\" class=\"dataframe\">\n",
              "  <thead>\n",
              "    <tr style=\"text-align: right;\">\n",
              "      <th></th>\n",
              "      <th>playerID</th>\n",
              "      <th>num_games_played</th>\n",
              "      <th>avg_starting_position</th>\n",
              "    </tr>\n",
              "  </thead>\n",
              "  <tbody>\n",
              "    <tr>\n",
              "      <th>0</th>\n",
              "      <td>musiast01</td>\n",
              "      <td>24.0</td>\n",
              "      <td>6.357143</td>\n",
              "    </tr>\n",
              "    <tr>\n",
              "      <th>1</th>\n",
              "      <td>mayswi01</td>\n",
              "      <td>24.0</td>\n",
              "      <td>8.000000</td>\n",
              "    </tr>\n",
              "    <tr>\n",
              "      <th>2</th>\n",
              "      <td>aaronha01</td>\n",
              "      <td>24.0</td>\n",
              "      <td>8.470588</td>\n",
              "    </tr>\n",
              "  </tbody>\n",
              "</table>\n",
              "</div>"
            ],
            "text/plain": [
              "    playerID  num_games_played  avg_starting_position\n",
              "0  musiast01              24.0               6.357143\n",
              "1   mayswi01              24.0               8.000000\n",
              "2  aaronha01              24.0               8.470588"
            ]
          },
          "metadata": {
            "tags": []
          }
        }
      ]
    },
    {
      "cell_type": "markdown",
      "metadata": {
        "id": "YIAxuOgaHNG-"
      },
      "source": [
        "---\n",
        "### Machine Learning Foundation (C) 2020 IBM Corporation"
      ]
    }
  ]
}